{
 "cells": [
  {
   "cell_type": "code",
   "execution_count": 1,
   "id": "6c9b7d46",
   "metadata": {},
   "outputs": [],
   "source": [
    "import numpy as np\n",
    "import pickle\n",
    "import pandas as pd"
   ]
  },
  {
   "cell_type": "code",
   "execution_count": 2,
   "id": "9c6c4a30",
   "metadata": {},
   "outputs": [],
   "source": [
    "number_courses = 3\n",
    "time_study = 3.133\n"
   ]
  },
  {
   "cell_type": "code",
   "execution_count": 3,
   "id": "505037d5",
   "metadata": {},
   "outputs": [],
   "source": [
    "x = np.array([[number_courses,time_study]])"
   ]
  },
  {
   "cell_type": "code",
   "execution_count": 4,
   "id": "0e239d92",
   "metadata": {},
   "outputs": [],
   "source": [
    "model = pickle.load(open('model.pkl', 'rb'))"
   ]
  },
  {
   "cell_type": "code",
   "execution_count": 5,
   "id": "db825aad",
   "metadata": {},
   "outputs": [],
   "source": [
    "y_prediction = model.predict(x)"
   ]
  },
  {
   "cell_type": "code",
   "execution_count": 6,
   "id": "9c2a9539",
   "metadata": {},
   "outputs": [
    {
     "data": {
      "text/plain": [
       "array([[14.95655739]])"
      ]
     },
     "execution_count": 6,
     "metadata": {},
     "output_type": "execute_result"
    }
   ],
   "source": [
    "y_prediction"
   ]
  },
  {
   "cell_type": "code",
   "execution_count": null,
   "id": "2c273847",
   "metadata": {},
   "outputs": [],
   "source": []
  }
 ],
 "metadata": {
  "kernelspec": {
   "display_name": "Python 3 (ipykernel)",
   "language": "python",
   "name": "python3"
  },
  "language_info": {
   "codemirror_mode": {
    "name": "ipython",
    "version": 3
   },
   "file_extension": ".py",
   "mimetype": "text/x-python",
   "name": "python",
   "nbconvert_exporter": "python",
   "pygments_lexer": "ipython3",
   "version": "3.9.7"
  }
 },
 "nbformat": 4,
 "nbformat_minor": 5
}
